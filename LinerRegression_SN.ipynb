{
 "cells": [
  {
   "cell_type": "code",
   "execution_count": 130,
   "metadata": {},
   "outputs": [
    {
     "name": "stdout",
     "output_type": "stream",
     "text": [
      "0.9584301138199486\n"
     ]
    },
    {
     "data": {
      "image/png": "[encoded data removed]",
      "text/plain": [
       "<Figure size 432x288 with 1 Axes>"
      ]
     },
     "metadata": {
      "needs_background": "light"
     },
     "output_type": "display_data"
    }
   ],
   "source": [
    "import pandas as pa\n",
    "import numpy as np\n",
    "import matplotlib.pyplot as plt\n",
    "from sklearn import linear_model\n",
    "df = pa.read_csv('homeprices.csv')\n",
    "    \n",
    "plt.scatter(df.area,df.price,color='red',marker='+')\n",
    "\n",
    "\n",
    "\n",
    "new_df = df.drop('price',axis='columns')\n",
    "price = df.price\n",
    "# create linear regression object\n",
    "reg = linear_model.LinearRegression()\n",
    "\n",
    "# create linear regression by passing actual x and y \n",
    "reg.fit(new_df,price)\n",
    "\n",
    "#  plot scatter plot for linear regression line\n",
    "plt.scatter(new_df.area,reg.predict(new_df[['area']]))\n",
    "\n",
    "# read new file to predict values\n",
    "areas = pa.read_csv('areas.csv')\n",
    "areas['price']=reg.predict(areas)\n",
    "\n",
    "# write predicted values into a csv\n",
    "areas.to_csv('preidtcions_sn.csv',index=False)\n",
    "\n",
    "r_sq = reg.score(new_df,price)\n",
    "print(r_sq)"
   ]
  },
  {
   "cell_type": "code",
   "execution_count": 46,
   "metadata": {},
   "outputs": [
    {
     "data": {
      "text/plain": [
       "array([628715.75342466])"
      ]
     },
     "execution_count": 46,
     "metadata": {},
     "output_type": "execute_result"
    }
   ],
   "source": [
    "(reg.coef_*3300)+reg.intercept_"
   ]
  },
  {
   "cell_type": "code",
   "execution_count": 131,
   "metadata": {},
   "outputs": [
    {
     "name": "stdout",
     "output_type": "stream",
     "text": [
      "0.890916917957032\n"
     ]
    },
    {
     "data": {
      "image/png": "[encoded data removed]",
      "text/plain": [
       "<Figure size 432x288 with 1 Axes>"
      ]
     },
     "metadata": {
      "needs_background": "light"
     },
     "output_type": "display_data"
    }
   ],
   "source": [
    "import pandas as pa\n",
    "import numpy as np\n",
    "import matplotlib.pyplot as plt\n",
    "from sklearn import linear_model\n",
    "df = pa.read_csv('canada_per_capita_income.csv')\n",
    "plt.scatter(df.year,df.percapitaincome,color='red')\n",
    "new_year = df.drop('percapitaincome',axis='columns')\n",
    "pca = df['percapitaincome']\n",
    "reg = linear_model.LinearRegression()\n",
    "reg.fit(new_year,pca)\n",
    "p=reg.predict(new_year[['year']])\n",
    "plt.scatter(new_year,reg.predict(new_year[['year']]))\n",
    "reg.coef_*2020+ reg.intercept_\n",
    "r_sq = reg.score(new_year,pca)\n",
    "print(r_sq)"
   ]
  },
  {
   "cell_type": "code",
   "execution_count": 123,
   "metadata": {},
   "outputs": [
    {
     "data": {
      "text/plain": [
       "array([38803.29886875])"
      ]
     },
     "execution_count": 123,
     "metadata": {},
     "output_type": "execute_result"
    }
   ],
   "source": [
    "reg.predict([[2017]])"
   ]
  },
  {
   "cell_type": "code",
   "execution_count": 124,
   "metadata": {},
   "outputs": [
    {
     "data": {
      "text/plain": [
       "array([39631.76394397])"
      ]
     },
     "execution_count": 124,
     "metadata": {},
     "output_type": "execute_result"
    }
   ],
   "source": [
    "reg.predict([[2018]])\n"
   ]
  },
  {
   "cell_type": "code",
   "execution_count": null,
   "metadata": {},
   "outputs": [],
   "source": []
  }
 ],
 "metadata": {
  "kernelspec": {
   "display_name": "Python 3",
   "language": "python",
   "name": "python3"
  },
  "language_info": {
   "codemirror_mode": {
    "name": "ipython",
    "version": 3
   },
   "file_extension": ".py",
   "mimetype": "text/x-python",
   "name": "python",
   "nbconvert_exporter": "python",
   "pygments_lexer": "ipython3",
   "version": "3.7.4"
  }
 },
 "nbformat": 4,
 "nbformat_minor": 2
}

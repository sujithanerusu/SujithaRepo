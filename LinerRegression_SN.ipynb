{
 "cells": [
  {
   "cell_type": "code",
   "execution_count": 80,
   "metadata": {},
   "outputs": [
    {
     "data": {
      "image/png": "[encoded data removed]",
      "text/plain": [
       "<Figure size 432x288 with 1 Axes>"
      ]
     },
     "metadata": {
      "needs_background": "light"
     },
     "output_type": "display_data"
    }
   ],
   "source": [
    "import pandas as pa\n",
    "import numpy as np\n",
    "import matplotlib.pyplot as plt\n",
    "from sklearn import linear_model\n",
    "df = pa.read_csv('homeprices.csv')\n",
    "    \n",
    "plt.scatter(df.area,df.price,color='red',marker='+')\n",
    "\n",
    "\n",
    "\n",
    "new_df = df.drop('price',axis='columns')\n",
    "price = df.price\n",
    "# create linear regression object\n",
    "reg = linear_model.LinearRegression()\n",
    "\n",
    "# create linear regression by passing actual x and y \n",
    "reg.fit(new_df,price)\n",
    "\n",
    "#  plot scatter plot for linear regression line\n",
    "plt.scatter(new_df.area,reg.predict(new_df[['area']]),color='blue')\n",
    "\n",
    "# read new file to predict values\n",
    "areas = pa.read_csv('areas.csv')\n",
    "areas['price']=reg.predict(areas)\n",
    "\n",
    "# write predicted values into a csv\n",
    "areas.to_csv('preidtcions_sn.csv',index=False)\n"
   ]
  },
  {
   "cell_type": "code",
   "execution_count": 46,
   "metadata": {},
   "outputs": [
    {
     "data": {
      "text/plain": [
       "array([628715.75342466])"
      ]
     },
     "execution_count": 46,
     "metadata": {},
     "output_type": "execute_result"
    }
   ],
   "source": [
    "(reg.coef_*3300)+reg.intercept_"
   ]
  },
  {
   "cell_type": "code",
   "execution_count": null,
   "metadata": {},
   "outputs": [],
   "source": []
  }
 ],
 "metadata": {
  "kernelspec": {
   "display_name": "Python 3",
   "language": "python",
   "name": "python3"
  },
  "language_info": {
   "codemirror_mode": {
    "name": "ipython",
    "version": 3
   },
   "file_extension": ".py",
   "mimetype": "text/x-python",
   "name": "python",
   "nbconvert_exporter": "python",
   "pygments_lexer": "ipython3",
   "version": "3.7.4"
  }
 },
 "nbformat": 4,
 "nbformat_minor": 2
}
